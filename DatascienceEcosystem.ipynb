{
 "cells": [
  {
   "cell_type": "markdown",
   "id": "067faebb-c794-4e65-b705-9939c39f1d00",
   "metadata": {},
   "source": [
    "# Data Science Tools and Ecosystem"
   ]
  },
  {
   "cell_type": "markdown",
   "id": "c38b6a50-1811-4d24-bce8-af4d81a6d19b",
   "metadata": {},
   "source": [
    "## Introduction\n",
    "This notebook provides an overview of popular tools, libraries, and languages used in Data Science. It also demonstrates basic operations in Python, such as arithmetic expressions and conversions.\n"
   ]
  },
  {
   "cell_type": "markdown",
   "id": "eca7b6ff-b33c-4cc9-be77-4164c39bb6d0",
   "metadata": {},
   "source": [
    "### Data Science Languages\n",
    "1. Python\n",
    "2. R\n",
    "3. SQL\n",
    "4. Julia\n",
    "5. Java\n",
    "6. Scala\n"
   ]
  },
  {
   "cell_type": "markdown",
   "id": "3bf5a4ce-7f36-4a39-b2eb-f125f6120c74",
   "metadata": {},
   "source": [
    "### Data Science Libraries\n",
    "- Pandas\n",
    "- NumPy\n",
    "- Matplotlib\n",
    "- Scikit-learn\n",
    "- TensorFlow\n",
    "- PyTorch\n"
   ]
  },
  {
   "cell_type": "markdown",
   "id": "860af188-284e-4bde-a547-018b2fbb5377",
   "metadata": {},
   "source": [
    "### Data Science Tools\n",
    "\n",
    "| Tool               | Description                              |\n",
    "|--------------------|------------------------------------------|\n",
    "| Jupyter Notebook   | Interactive computing environment       |\n",
    "| RStudio            | Integrated development for R            |\n",
    "| Apache Hadoop      | Distributed processing and storage      |\n",
    "| Apache Spark       | Data processing and analytics           |\n",
    "| TensorFlow         | Machine learning framework              |\n"
   ]
  },
  {
   "cell_type": "markdown",
   "id": "ea700261-aaea-439b-b49b-76b0698e8e8b",
   "metadata": {},
   "source": [
    "### Arithmetic Expression Examples\n",
    "Below are examples of basic arithmetic operations, including addition, multiplication, and conversion.\n"
   ]
  },
  {
   "cell_type": "code",
   "execution_count": 3,
   "id": "44335c3e-ca7e-48f7-9685-f7d9f628f163",
   "metadata": {},
   "outputs": [
    {
     "data": {
      "text/plain": [
       "17"
      ]
     },
     "execution_count": 3,
     "metadata": {},
     "output_type": "execute_result"
    }
   ],
   "source": [
    "# This code multiplies 5 by 3 and adds 2 to the result\n",
    "result = (5 * 3) + 2\n",
    "result\n"
   ]
  },
  {
   "cell_type": "code",
   "execution_count": 4,
   "id": "07e545ea-a189-4a9d-aa58-f333232d70ee",
   "metadata": {},
   "outputs": [
    {
     "data": {
      "text/plain": [
       "3.3333333333333335"
      ]
     },
     "execution_count": 4,
     "metadata": {},
     "output_type": "execute_result"
    }
   ],
   "source": [
    "# This code converts 200 minutes to hours by dividing by 60\n",
    "minutes = 200\n",
    "hours = minutes / 60\n",
    "hours\n"
   ]
  },
  {
   "cell_type": "markdown",
   "id": "eeeeb8e4-2a2e-4006-80e3-de5bbc300e57",
   "metadata": {},
   "source": [
    "### Objectives\n",
    "- List popular languages for Data Science\n",
    "- Identify commonly used libraries for data science\n",
    "- Demonstrate basic arithmetic expressions in Python\n",
    "- Share the notebook on GitHub\n"
   ]
  },
  {
   "cell_type": "markdown",
   "id": "fe41c6e8-6885-4059-a838-c22de3263b0d",
   "metadata": {},
   "source": [
    "### Author\n",
    "Prajyot Ambekar\n"
   ]
  },
  {
   "cell_type": "code",
   "execution_count": null,
   "id": "18cb826d-31ac-48cb-9754-0fd07ebbdc7c",
   "metadata": {},
   "outputs": [],
   "source": []
  }
 ],
 "metadata": {
  "kernelspec": {
   "display_name": "Python 3 (ipykernel)",
   "language": "python",
   "name": "python3"
  },
  "language_info": {
   "codemirror_mode": {
    "name": "ipython",
    "version": 3
   },
   "file_extension": ".py",
   "mimetype": "text/x-python",
   "name": "python",
   "nbconvert_exporter": "python",
   "pygments_lexer": "ipython3",
   "version": "3.12.5"
  }
 },
 "nbformat": 4,
 "nbformat_minor": 5
}
